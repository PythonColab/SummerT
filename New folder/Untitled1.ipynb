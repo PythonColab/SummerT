{
 "cells": [
  {
   "cell_type": "code",
   "execution_count": 1,
   "metadata": {},
   "outputs": [
    {
     "name": "stdout",
     "output_type": "stream",
     "text": [
      "go forward ten meters\n"
     ]
    }
   ],
   "source": [
    "from pocketsphinx import AudioFile\n",
    "for phrase in AudioFile(): print(phrase)"
   ]
  },
  {
   "cell_type": "code",
   "execution_count": 7,
   "metadata": {},
   "outputs": [
    {
     "name": "stdout",
     "output_type": "stream",
     "text": [
      "E:\\Users\\BHANU\\Anaconda3\\lib\\site-packages\\pocketsphinx\\data\\goforward.raw\n",
      "go forward ten meters\n"
     ]
    }
   ],
   "source": [
    "import os\n",
    "from pocketsphinx import AudioFile, get_model_path, get_data_path\n",
    "\n",
    "model_path = get_model_path()\n",
    "data_path = get_data_path()\n",
    "print(os.path.join(data_path, 'goforward.raw'))\n",
    "\n",
    "config = {\n",
    "    'verbose': False,\n",
    "    'audio_file': 'HelloBhanu.wav',\n",
    "    'buffer_size': 2048,\n",
    "    'no_search': False,\n",
    "    'full_utt': False,\n",
    "    'hmm': os.path.join(model_path, 'en-us'),\n",
    "    'lm': os.path.join(model_path, 'en-us.lm.bin'),\n",
    "    'dict': os.path.join(model_path, 'cmudict-en-us.dict')\n",
    "}\n",
    "\n",
    "audio = AudioFile(audiofile='HelloBhanu.wav')\n",
    "for phrase in audio:\n",
    "    print(phrase)"
   ]
  },
  {
   "cell_type": "code",
   "execution_count": null,
   "metadata": {},
   "outputs": [],
   "source": []
  }
 ],
 "metadata": {
  "kernelspec": {
   "display_name": "Python 3",
   "language": "python",
   "name": "python3"
  },
  "language_info": {
   "codemirror_mode": {
    "name": "ipython",
    "version": 3
   },
   "file_extension": ".py",
   "mimetype": "text/x-python",
   "name": "python",
   "nbconvert_exporter": "python",
   "pygments_lexer": "ipython3",
   "version": "3.6.5"
  }
 },
 "nbformat": 4,
 "nbformat_minor": 2
}
